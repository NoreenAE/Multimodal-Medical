{
 "cells": [
  {
   "cell_type": "code",
   "execution_count": null,
   "metadata": {},
   "outputs": [],
   "source": [
    "import pandas as pd\n",
    "import numpy as np\n",
    "import pickle"
   ]
  },
  {
   "cell_type": "code",
   "execution_count": null,
   "metadata": {},
   "outputs": [],
   "source": [
    "image_feat = np.loadtxt('./../SimCLR/cmmd_image_feature.csv',delimiter=',',dtype=np.float32)\n",
    "ids = pd.read_csv('./../SimCLR/cmmd_ids.csv',header=None)"
   ]
  },
  {
   "cell_type": "code",
   "execution_count": null,
   "metadata": {},
   "outputs": [],
   "source": [
    "ids_list = []\n",
    "for i in range(len(image_feat)):\n",
    "    a = 'D' + str(ids[0][i])[0] +'-' + str(ids[0][i])[1:5]\n",
    "    ids_list.append(a)\n",
    "    i+=1"
   ]
  },
  {
   "cell_type": "code",
   "execution_count": null,
   "metadata": {},
   "outputs": [],
   "source": [
    "data = pd.read_excel('./CMMD_clinicaldata_revision (1).xlsx')\n"
   ]
  },
  {
   "cell_type": "code",
   "execution_count": null,
   "metadata": {},
   "outputs": [],
   "source": [
    "data.drop(columns='number', inplace=True)"
   ]
  },
  {
   "cell_type": "code",
   "execution_count": null,
   "metadata": {},
   "outputs": [],
   "source": [
    "data['subtype'].fillna(0,inplace=True)"
   ]
  },
  {
   "cell_type": "code",
   "execution_count": null,
   "metadata": {},
   "outputs": [],
   "source": [
    "data['age_'] = pd.qcut(data['Age'],5,labels=False)"
   ]
  },
  {
   "cell_type": "code",
   "execution_count": null,
   "metadata": {},
   "outputs": [],
   "source": [
    "data.drop(columns=['Age'],inplace=True)"
   ]
  },
  {
   "cell_type": "code",
   "execution_count": null,
   "metadata": {},
   "outputs": [],
   "source": [
    "data['label'] = data['classification'].apply(lambda x: 0 if x == 'Benign' else 1)"
   ]
  },
  {
   "cell_type": "code",
   "execution_count": null,
   "metadata": {},
   "outputs": [],
   "source": [
    "data.drop(columns=['classification'],inplace=True)"
   ]
  },
  {
   "cell_type": "code",
   "execution_count": null,
   "metadata": {},
   "outputs": [],
   "source": [
    "data"
   ]
  },
  {
   "cell_type": "code",
   "execution_count": null,
   "metadata": {},
   "outputs": [],
   "source": [
    "sub = data['ID1']\n",
    "cdr = data['label']\n",
    "data_non_dmgi_drop = data.drop(columns=['ID1','label'])\n",
    "data_dum = pd.get_dummies(data_non_dmgi_drop, columns=data_non_dmgi_drop.keys())"
   ]
  },
  {
   "cell_type": "code",
   "execution_count": null,
   "metadata": {},
   "outputs": [],
   "source": [
    "feature_dict = {}\n",
    "label_dict = {}\n",
    "i = 0\n",
    "# use_clinical_dummy_no = use_clinical_dummy.drop(columns=['cdr','age_','apoe']).fillna(0)\n",
    "\n",
    "for s in sub:\n",
    "    feature_dict[s] = data_dum.iloc[i].to_numpy()\n",
    "    label_dict[s] = cdr[i]\n",
    "    i+=1"
   ]
  },
  {
   "cell_type": "code",
   "execution_count": null,
   "metadata": {},
   "outputs": [],
   "source": [
    "oasis3_1 = {'label': label_dict, 'feature': feature_dict}\n",
    "with open('./cmmd.pkl', 'wb') as f:\n",
    "    pickle.dump(oasis3_1, f, pickle.HIGHEST_PROTOCOL)"
   ]
  },
  {
   "cell_type": "code",
   "execution_count": null,
   "metadata": {},
   "outputs": [],
   "source": [
    "concat_feature = []\n",
    "labels = []\n",
    "i =0\n",
    "for idd in ids_list:\n",
    "    pp = image_feat[i].tolist() + feature_dict[idd].tolist()\n",
    "    concat_feature.append(pp)\n",
    "    labels.append(label_dict[idd])\n",
    "    i+=1"
   ]
  },
  {
   "cell_type": "code",
   "execution_count": null,
   "metadata": {},
   "outputs": [],
   "source": [
    "concat_num = np.array(concat_feature)"
   ]
  },
  {
   "cell_type": "code",
   "execution_count": null,
   "metadata": {},
   "outputs": [],
   "source": [
    "data"
   ]
  },
  {
   "cell_type": "code",
   "execution_count": null,
   "metadata": {},
   "outputs": [],
   "source": [
    "type_list = [['LeftRight'],['abnormality'],['subtype'],['age_']]\n",
    "from sklearn.preprocessing import minmax_scale\n",
    "import sklearn.metrics.pairwise\n",
    "\n",
    "k = 0\n",
    "save_list= []\n",
    "threses = [0.9, 0.9, 0.9, 0.5]\n",
    "for types in type_list:\n",
    "    before_adj_ = []\n",
    "    use_clinical_dummy_multi = pd.get_dummies(data[['label']+types], columns=types)\n",
    "    ll = use_clinical_dummy_multi.drop(columns=['label'])\n",
    "    ll = ll.fillna(0)\n",
    "    for id_ in ids_list:\n",
    "        # print(data[data['ID1'] ==id_].index[0])\n",
    "        lp = data[data['ID1'] ==id_].index[0]\n",
    "        p = ll.loc[lp].tolist()\n",
    "        before_adj_.append(p)\n",
    "    p_ = np.array(before_adj_)\n",
    "    p_ = minmax_scale(p_, axis=0, copy =True)\n",
    "\n",
    "    cos_ = sklearn.metrics.pairwise.cosine_similarity(p_,p_)\n",
    "    adj_ = np.zeros(cos_.shape)\n",
    "    thres = threses[k]\n",
    "    for i in range(cos_.shape[0]):\n",
    "        for j in range(cos_.shape[0]):\n",
    "            if cos_[i][j] > thres:\n",
    "                adj_[i][j] = 1\n",
    "            else:\n",
    "                adj_[i][j] = 0\n",
    "    save_list.append(adj_)\n",
    "    k+=1"
   ]
  },
  {
   "cell_type": "code",
   "execution_count": null,
   "metadata": {},
   "outputs": [],
   "source": [
    "adj_0 = save_list[0]\n",
    "adj_1 = save_list[1]\n",
    "adj_2 = save_list[2]\n",
    "adj_3 = save_list[3]"
   ]
  },
  {
   "cell_type": "code",
   "execution_count": null,
   "metadata": {},
   "outputs": [],
   "source": [
    "indexes = [i for i in range(len(labels))]\n",
    "train_ = len(indexes[:int(len(indexes)*0.6)])\n",
    "valid_ = len(indexes[int(len(indexes)*0.6):int(len(indexes)*0.7)])\n",
    "test_ = len(indexes[int(len(indexes)*0.7):])\n",
    "\n",
    "import random\n",
    "random.shuffle(indexes)\n",
    "train_index = indexes[:train_]\n",
    "valid_index = indexes[train_:train_+valid_]\n",
    "test_index = indexes[train_+valid_:]\n"
   ]
  },
  {
   "cell_type": "code",
   "execution_count": null,
   "metadata": {},
   "outputs": [],
   "source": [
    "y = np.zeros((len(labels),2))\n",
    "for i in range(len(labels)):\n",
    "    if labels[i] ==0:\n",
    "        y[i,0]=1\n",
    "    elif labels[i]==1:\n",
    "        y[i,1]=1\n",
    "\n",
    "train_index = np.array(train_index)\n",
    "valid_index = np.array(valid_index)\n",
    "test_index = np.array(test_index)"
   ]
  },
  {
   "cell_type": "code",
   "execution_count": null,
   "metadata": {},
   "outputs": [],
   "source": [
    "concat_num.shape"
   ]
  },
  {
   "cell_type": "code",
   "execution_count": null,
   "metadata": {},
   "outputs": [],
   "source": [
    "oasis3_multi = {'label':y,'type0':adj_0,'type1':adj_1,'type2':adj_2,'type3':adj_3,'train_idx':train_index,'val_idx':valid_index,'test_idx':test_index,'feature':concat_num}\n"
   ]
  },
  {
   "cell_type": "code",
   "execution_count": null,
   "metadata": {},
   "outputs": [],
   "source": [
    "with open('./../../MultiplexNetwork/data/cmmd.pkl', 'wb') as f:\n",
    "    pickle.dump(oasis3_multi, f, pickle.HIGHEST_PROTOCOL)"
   ]
  }
 ],
 "metadata": {
  "kernelspec": {
   "display_name": "Python 3.8.5 ('study')",
   "language": "python",
   "name": "python3"
  },
  "language_info": {
   "codemirror_mode": {
    "name": "ipython",
    "version": 3
   },
   "file_extension": ".py",
   "mimetype": "text/x-python",
   "name": "python",
   "nbconvert_exporter": "python",
   "pygments_lexer": "ipython3",
   "version": "3.8.5"
  },
  "orig_nbformat": 4,
  "vscode": {
   "interpreter": {
    "hash": "4e7dcdda9aa57128db4f79b31d827bdb0aa0e537d1eeb024b6c7498f481347ff"
   }
  }
 },
 "nbformat": 4,
 "nbformat_minor": 2
}
